{
  "cells": [
    {
      "cell_type": "markdown",
      "metadata": {
        "id": "view-in-github",
        "colab_type": "text"
      },
      "source": [
        "<a href=\"https://colab.research.google.com/github/cityjayjay/course_3.0/blob/main/02_ML/part3/Chapter3/KNN.ipynb\" target=\"_parent\"><img src=\"https://colab.research.google.com/assets/colab-badge.svg\" alt=\"Open In Colab\"/></a>"
      ]
    },
    {
      "cell_type": "code",
      "execution_count": null,
      "metadata": {
        "id": "e7Jeo4fPGhak"
      },
      "outputs": [],
      "source": [
        "import numpy as np\n",
        "import pandas as pd\n",
        "from sklearn.datasets import load_iris\n",
        "from sklearn.model_selection import train_test_split\n",
        "from sklearn import metrics\n",
        "from sklearn.neighbors import KNeighborsClassifier"
      ]
    },
    {
      "cell_type": "code",
      "execution_count": null,
      "metadata": {
        "id": "GNxWrDEHGhal"
      },
      "outputs": [],
      "source": [
        "# load iris data\n",
        "iris = load_iris()\n",
        "iris_X = iris.data\n",
        "iris_y = iris.target"
      ]
    },
    {
      "cell_type": "code",
      "execution_count": null,
      "metadata": {
        "id": "IaPlVqe9Gham"
      },
      "outputs": [],
      "source": [
        "# split training data\n",
        "train_X, val_X, train_y, val_y = train_test_split(iris_X,\n",
        "                                                  iris_y,\n",
        "                                                  test_size=0.3,\n",
        "                                                  random_state=5566)"
      ]
    },
    {
      "cell_type": "code",
      "execution_count": null,
      "metadata": {
        "id": "3Gk84aK3Gham"
      },
      "outputs": [],
      "source": [
        "# create KNN model\n",
        "model = KNeighborsClassifier(n_neighbors=3)\n",
        "\n",
        "# Train the model using the training sets\n",
        "model.fit(train_X, train_y)\n",
        "\n",
        "# Predict Output\n",
        "predicted = model.predict(val_X)"
      ]
    },
    {
      "cell_type": "code",
      "execution_count": null,
      "metadata": {
        "id": "D0yDZTQmGham"
      },
      "outputs": [],
      "source": [
        "print('val_y: ', val_y)\n",
        "print('pred_y:', predicted)"
      ]
    },
    {
      "cell_type": "code",
      "execution_count": null,
      "metadata": {
        "id": "o3y7QLj0Gham"
      },
      "outputs": [],
      "source": [
        "# accuracy\n",
        "acc = metrics.accuracy_score(y_true=val_y, y_pred=predicted)\n",
        "print('accuracy: ', acc)"
      ]
    },
    {
      "cell_type": "code",
      "execution_count": null,
      "metadata": {
        "id": "vFf_EA74Ghan"
      },
      "outputs": [],
      "source": []
    }
  ],
  "metadata": {
    "kernelspec": {
      "display_name": "Python 3 (ipykernel)",
      "language": "python",
      "name": "python3"
    },
    "language_info": {
      "codemirror_mode": {
        "name": "ipython",
        "version": 3
      },
      "file_extension": ".py",
      "mimetype": "text/x-python",
      "name": "python",
      "nbconvert_exporter": "python",
      "pygments_lexer": "ipython3",
      "version": "3.10.2"
    },
    "toc": {
      "base_numbering": 1,
      "nav_menu": {},
      "number_sections": true,
      "sideBar": true,
      "skip_h1_title": false,
      "title_cell": "Table of Contents",
      "title_sidebar": "Contents",
      "toc_cell": false,
      "toc_position": {},
      "toc_section_display": true,
      "toc_window_display": false
    },
    "colab": {
      "provenance": [],
      "include_colab_link": true
    }
  },
  "nbformat": 4,
  "nbformat_minor": 0
}